{
 "cells": [
  {
   "cell_type": "code",
   "execution_count": 2,
   "metadata": {},
   "outputs": [],
   "source": [
    "import tensorflow as tf           # create graph # run graph (sess.run)"
   ]
  },
  {
   "cell_type": "code",
   "execution_count": 3,
   "metadata": {},
   "outputs": [
    {
     "name": "stdout",
     "output_type": "stream",
     "text": [
      "Tensor(\"Const:0\", shape=(), dtype=string) b'Hello' <class 'bytes'>\n",
      "Tensor(\"Const_1:0\", shape=(), dtype=int32) 10 <class 'bytes'>\n",
      "Tensor(\"Const_2:0\", shape=(), dtype=float32) 10.0 <class 'numpy.float32'>\n",
      "[b'Hello', 10, 10.0] <class 'list'>\n",
      "20 <class 'numpy.int32'>\n"
     ]
    }
   ],
   "source": [
    "# constant cannot modify\n",
    "a = tf.constant('Hello')\n",
    "b = tf.constant(10)\n",
    "c = tf.constant(10.)\n",
    "\n",
    "with tf.Session() as sess:\n",
    "    print(a, sess.run(a), type(sess.run(a))) # bytes\n",
    "    print(b, sess.run(b), type(sess.run(a))) # bytes\n",
    "    print(c, sess.run(c), type(sess.run(c))) # np.float\n",
    "    print( sess.run([a,b,c]), type(sess.run([a,b,c])) )         # list\n",
    "    print( sess.run(tf.add(b,b)), type(sess.run(tf.add(b,b))) ) # np.int # int cannot add float"
   ]
  },
  {
   "cell_type": "code",
   "execution_count": 5,
   "metadata": {
    "scrolled": false
   },
   "outputs": [
    {
     "name": "stdout",
     "output_type": "stream",
     "text": [
      "0 1 2 3 4 50\n",
      "50\n",
      "[ 3 11]\n"
     ]
    }
   ],
   "source": [
    "# placeholder cannot initialize\n",
    "C = tf.placeholder(tf.int64)\n",
    "D = tf.placeholder(tf.int64)\n",
    "E = tf.placeholder(tf.int64)\n",
    "adder = D + E\n",
    "\n",
    "with tf.Session() as sess:\n",
    "    for i in range(5):\n",
    "        print(sess.run(C, {C:i}), end=' ')\n",
    "    \n",
    "    print( sess.run(adder, {C:10, D:20, E:30}) )    # 可以一次填充所有的占位符 # 50\n",
    "    print( sess.run(adder, {D:20, E:30}) )          # 或者只填充計算所需要的 # 50\n",
    "    #print( sess.run(adder, {E:30} )                # Error! 每次執行sess.run()都要填充\n",
    "    print( sess.run(adder, {D:[1,3], E:[2,8]}) )    # type error"
   ]
  },
  {
   "cell_type": "code",
   "execution_count": 6,
   "metadata": {},
   "outputs": [
    {
     "name": "stdout",
     "output_type": "stream",
     "text": [
      "[0.         0.3        0.6        0.90000004]\n",
      "23.66\n",
      "0.0\n"
     ]
    }
   ],
   "source": [
    "# variable must initialize and can be reassigned\n",
    "W = tf.Variable([.3])\n",
    "b = tf.Variable([-.3])\n",
    "x = tf.placeholder(tf.float32)\n",
    "linear_model = W * x + b\n",
    "\n",
    "y = tf.placeholder(tf.float32)\n",
    "squared_deltas = tf.square(linear_model - y)\n",
    "loss = tf.reduce_sum(squared_deltas)\n",
    "\n",
    "with tf.Session() as sess:\n",
    "    sess.run( tf.global_variables_initializer() )\n",
    "    print(sess.run(linear_model, {x:[1,2,3,4]}))\n",
    "    print(sess.run(loss, {x:[1,2,3,4], y:[0,-1,-2,-3]}))\n",
    "\n",
    "    fixW = tf.assign(W, [-1.]) # deep copy fixW \n",
    "    fixb = tf.assign(b, [1.])  # deep copy fixb\n",
    "    sess.run([fixW, fixb])     # replace W as fixW and b as fixb for all functions \n",
    "    print(sess.run(loss, {x:[1,2,3,4], y:[0,-1,-2,-3]}))"
   ]
  },
  {
   "cell_type": "code",
   "execution_count": null,
   "metadata": {},
   "outputs": [],
   "source": []
  },
  {
   "cell_type": "code",
   "execution_count": 7,
   "metadata": {},
   "outputs": [
    {
     "name": "stdout",
     "output_type": "stream",
     "text": [
      "W:[-0.9999969]    b:[0.9999908]    loss:5.699973826267524e-11\n"
     ]
    }
   ],
   "source": [
    "# linear regression example\n",
    "\n",
    "# 模型參數\n",
    "W = tf.Variable([.3], dtype=tf.float32)\n",
    "b = tf.Variable([-.3], dtype=tf.float32)\n",
    "\n",
    "# 輸入與輸出的資料\n",
    "x = tf.placeholder(tf.float32)\n",
    "linear_model = W * x + b\n",
    "y = tf.placeholder(tf.float32)\n",
    "\n",
    "# loss function\n",
    "loss = tf.reduce_sum(tf.square(linear_model - y)) # sum of the squares\n",
    "\n",
    "# optimizer\n",
    "optimizer = tf.train.GradientDescentOptimizer(0.01)\n",
    "train = optimizer.minimize(loss)\n",
    "\n",
    "# training data\n",
    "x_train = [1, 2, 3, 4]\n",
    "y_train = [0, -1, -2, -3]\n",
    "\n",
    "with tf.Session() as sess:\n",
    "    sess.run( tf.global_variables_initializer() )\n",
    "\n",
    "    for i in range(1000):\n",
    "        sess.run(train, {x:x_train, y:y_train})\n",
    "\n",
    "    curr_W, curr_b, curr_loss = sess.run([W, b, loss], {x:x_train, y:y_train})\n",
    "    print(\"W:{}    b:{}    loss:{}\".format(curr_W, curr_b, curr_loss))"
   ]
  },
  {
   "cell_type": "code",
   "execution_count": null,
   "metadata": {},
   "outputs": [],
   "source": []
  },
  {
   "cell_type": "code",
   "execution_count": 17,
   "metadata": {},
   "outputs": [
    {
     "name": "stdout",
     "output_type": "stream",
     "text": [
      "Tensor(\"random_uniform_8:0\", shape=(3,), dtype=float32) [0.4788308  0.25787294 0.5310029 ]\n",
      "Tensor(\"random_normal_8:0\", shape=(3,), dtype=float32) [ 0.951404   -0.18839644  0.91052896]\n",
      "Tensor(\"zeros_8:0\", shape=(5,), dtype=float32) [0. 0. 0. 0. 0.]\n",
      "Tensor(\"zeros_9:0\", shape=(2, 3), dtype=float32) [[0. 0. 0.]\n",
      " [0. 0. 0.]]\n"
     ]
    }
   ],
   "source": [
    "a = tf.random_uniform([3])\n",
    "b = tf.random_normal([3])\n",
    "c = tf.zeros(5)\n",
    "d = tf.zeros((2,3))\n",
    "with tf.Session() as sess:\n",
    "    print(a, sess.run(a))\n",
    "    print(b, sess.run(b))\n",
    "    print(c, sess.run(c))\n",
    "    print(d, sess.run(d))"
   ]
  },
  {
   "cell_type": "code",
   "execution_count": null,
   "metadata": {},
   "outputs": [],
   "source": []
  },
  {
   "cell_type": "code",
   "execution_count": 18,
   "metadata": {},
   "outputs": [
    {
     "name": "stdout",
     "output_type": "stream",
     "text": [
      "[2 4 7]\n"
     ]
    }
   ],
   "source": [
    "my_graph = tf.Graph()\n",
    "with tf.Session(graph=my_graph) as sess:\n",
    "    x = tf.constant([1,3,6])\n",
    "    y = tf.constant([1,1,1])\n",
    "    op = x+y                      # or tf.add(x,y)\n",
    "    print(sess.run(op))"
   ]
  },
  {
   "cell_type": "code",
   "execution_count": null,
   "metadata": {},
   "outputs": [],
   "source": []
  }
 ],
 "metadata": {
  "kernelspec": {
   "display_name": "Python 3",
   "language": "python",
   "name": "python3"
  },
  "language_info": {
   "codemirror_mode": {
    "name": "ipython",
    "version": 3
   },
   "file_extension": ".py",
   "mimetype": "text/x-python",
   "name": "python",
   "nbconvert_exporter": "python",
   "pygments_lexer": "ipython3",
   "version": "3.7.7"
  }
 },
 "nbformat": 4,
 "nbformat_minor": 4
}
