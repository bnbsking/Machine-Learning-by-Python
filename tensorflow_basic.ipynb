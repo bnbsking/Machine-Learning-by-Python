{
 "cells": [
  {
   "cell_type": "code",
   "execution_count": 2,
   "metadata": {},
   "outputs": [],
   "source": [
    "import tensorflow as tf           # create graph # run graph (sess.run)\n",
    "import keras.backend as K"
   ]
  },
  {
   "cell_type": "code",
   "execution_count": 55,
   "metadata": {},
   "outputs": [
    {
     "name": "stdout",
     "output_type": "stream",
     "text": [
      "Tensor(\"Const_98:0\", shape=(), dtype=string)\n",
      "Tensor(\"Const_99:0\", shape=(), dtype=int32) Tensor(\"Const_100:0\", shape=(), dtype=float32)\n",
      "Tensor(\"Const_101:0\", shape=(), dtype=float32) Tensor(\"Const_102:0\", shape=(), dtype=float32)\n",
      "\n",
      "<class 'tensorflow.python.framework.ops.Tensor'>\n",
      "<class 'tensorflow.python.framework.ops.Tensor'> <class 'tensorflow.python.framework.ops.Tensor'>\n",
      "<class 'tensorflow.python.framework.ops.Tensor'> <class 'tensorflow.python.framework.ops.Tensor'>\n",
      "\n",
      "b'Hello' <class 'bytes'>\n",
      "10 <class 'numpy.int32'>\n",
      "10.0 <class 'numpy.float32'>\n",
      "[[ 8 10 12]\n",
      " [14 16 18]] [[ 8 10 12]\n",
      " [14 16 18]]\n",
      "[b'Hello', 10, 10.0] <class 'list'>\n"
     ]
    }
   ],
   "source": [
    "# constant cannot modify\n",
    "a = tf.constant('Hello')\n",
    "bt, bk = tf.constant(10), K.constant(10)\n",
    "ct, ck = tf.constant(10.), K.constant(10.)\n",
    "\n",
    "print(a)\n",
    "print(bt, bk)\n",
    "print(ct, ck)\n",
    "print() # keras has float type only\n",
    "\n",
    "print(type(a))\n",
    "print(type(bt), type(bk))\n",
    "print(type(ct), type(ck))\n",
    "print() # above types are all same \n",
    "\n",
    "with tf.Session() as sess:\n",
    "    print(sess.run(a), type(sess.run(a)))        # bytes\n",
    "    print(sess.run(bt), type(sess.run(bt)))\n",
    "    print(sess.run(ct), type(sess.run(ct)))\n",
    "    print(sess.run(b+b), sess.run(tf.add(b,b)) ) # add for tf only, furthermore, int + float (X)\n",
    "    print( sess.run([a,bt,ct]), type(sess.run([a,bt,ct])) )     # list"
   ]
  },
  {
   "cell_type": "code",
   "execution_count": 58,
   "metadata": {},
   "outputs": [
    {
     "name": "stdout",
     "output_type": "stream",
     "text": [
      "[5 7 9] <class 'numpy.ndarray'>\n",
      "6 <class 'numpy.int32'>\n",
      "6 <class 'numpy.int32'>\n"
     ]
    }
   ],
   "source": [
    "a = tf.constant([1,2,3])\n",
    "b = tf.constant([4,5,6])\n",
    "\n",
    "with tf.Session() as sess:\n",
    "    print(sess.run(a+b), type(sess.run(tf.add(a,b))) )\n",
    "    print(sess.run(tf.reduce_sum(a)), type(sess.run(tf.reduce_sum(a))) )\n",
    "    print(sess.run(K.sum(a)), type(sess.run(K.sum(a))) )"
   ]
  },
  {
   "cell_type": "code",
   "execution_count": 45,
   "metadata": {},
   "outputs": [
    {
     "name": "stdout",
     "output_type": "stream",
     "text": [
      "(2, 3)\n",
      "[ 7  9 11] [ 9 18]\n",
      "[ 7  9 11] [ 9 18]\n",
      "[ 9 18] [ 9 18]\n"
     ]
    }
   ],
   "source": [
    "a = tf.constant([[1,2,3],[4,5,6]])\n",
    "print(a.shape)\n",
    "\n",
    "with tf.Session() as sess:\n",
    "    print( sess.run(tf.reduce_sum(a+1,axis=0)), sess.run(tf.reduce_sum(a+1,axis=1)) )\n",
    "    print( sess.run(K.sum(a+1,axis=0)), sess.run(K.sum(a+1,axis=1)) )\n",
    "    print( sess.run(tf.reduce_sum(a+1,axis=-1)), sess.run(K.sum(a+1,axis=-1)) )"
   ]
  },
  {
   "cell_type": "code",
   "execution_count": 59,
   "metadata": {},
   "outputs": [
    {
     "name": "stdout",
     "output_type": "stream",
     "text": [
      "[0.2630545  0.39240968 0.92797244] [0.34468806 0.65074766 0.62426996]\n",
      "[-1.2628601  -0.10351779  0.1374308 ] [-0.6291197  -0.44383928 -2.2052107 ]\n"
     ]
    }
   ],
   "source": [
    "at, ak = tf.random_uniform([3]), K.random_uniform([3])\n",
    "bt, bk = tf.random_normal([3]), K.random_normal([3])\n",
    "#ct, ck = tf.zeros(5), K.zeros(5)\n",
    "#dt, dk = tf.zeros((2,3)), K.zeros((2,3)) # can not print\n",
    "\n",
    "with tf.Session() as sess:\n",
    "    print( sess.run(at), sess.run(ak) )\n",
    "    print( sess.run(bt), sess.run(bk) )"
   ]
  },
  {
   "cell_type": "code",
   "execution_count": 68,
   "metadata": {
    "scrolled": false
   },
   "outputs": [
    {
     "name": "stdout",
     "output_type": "stream",
     "text": [
      "0 1 2 3 4 50\n",
      "50\n",
      "[ 3 11]\n"
     ]
    }
   ],
   "source": [
    "# placeholder cannot initialize\n",
    "C = tf.placeholder(tf.int64)\n",
    "D = tf.placeholder(tf.int64)\n",
    "E = tf.placeholder(tf.int64)\n",
    "adder = D + E\n",
    "\n",
    "with tf.Session() as sess:\n",
    "    for i in range(5):\n",
    "        print(sess.run(C, {C:i}), end=' ')\n",
    "    \n",
    "    print( sess.run(adder, {C:10, D:20, E:30}) )    # 可以一次填充所有的占位符 # 50\n",
    "    print( sess.run(adder, {D:20, E:30}) )          # 或者只填充計算所需要的 # 50\n",
    "    #print( sess.run(adder, {E:30} )                # Error! 每次執行sess.run()都要填充\n",
    "    print( sess.run(adder, {D:[1,3], E:[2,8]}) )    # type error"
   ]
  },
  {
   "cell_type": "code",
   "execution_count": 72,
   "metadata": {},
   "outputs": [
    {
     "name": "stdout",
     "output_type": "stream",
     "text": [
      "[0.         0.3        0.6        0.90000004]\n",
      "23.66\n",
      "0.0\n"
     ]
    }
   ],
   "source": [
    "# variable must initialize and can be reassigned\n",
    "W = tf.Variable([.3]) # Capital\n",
    "b = K.variable([-.3]) # lower\n",
    "x = tf.placeholder(tf.float32)\n",
    "linear_model = W * x + b\n",
    "\n",
    "y = tf.placeholder(tf.float32)\n",
    "squared_deltas = tf.square(linear_model - y)\n",
    "loss = tf.reduce_sum(squared_deltas)\n",
    "\n",
    "with tf.Session() as sess:\n",
    "    sess.run( tf.global_variables_initializer() )\n",
    "    print(sess.run(linear_model, {x:[1,2,3,4]}))\n",
    "    print(sess.run(loss, {x:[1,2,3,4], y:[0,-1,-2,-3]}))\n",
    "\n",
    "    fixW = tf.assign(W, [-1.]) # deep copy fixW \n",
    "    fixb = tf.assign(b, [1.])  # deep copy fixb\n",
    "    sess.run([fixW, fixb])     # replace W as fixW and b as fixb for all functions \n",
    "    print(sess.run(loss, {x:[1,2,3,4], y:[0,-1,-2,-3]}))"
   ]
  },
  {
   "cell_type": "code",
   "execution_count": 74,
   "metadata": {},
   "outputs": [
    {
     "name": "stdout",
     "output_type": "stream",
     "text": [
      "W:[-0.9999969]    b:[0.9999908]    loss:5.699973826267524e-11\n"
     ]
    }
   ],
   "source": [
    "# linear regression example\n",
    "\n",
    "# 模型參數\n",
    "W = tf.Variable([.3], dtype=tf.float32)\n",
    "b = tf.Variable([-.3], dtype=tf.float32)\n",
    "\n",
    "# 輸入與輸出的資料\n",
    "x = tf.placeholder(tf.float32)\n",
    "linear_model = W * x + b\n",
    "y = tf.placeholder(tf.float32)\n",
    "\n",
    "# loss function\n",
    "loss = tf.reduce_sum(tf.square(linear_model - y)) # sum of the squares\n",
    "\n",
    "# optimizer\n",
    "optimizer = tf.train.GradientDescentOptimizer(0.01)\n",
    "train = optimizer.minimize(loss)\n",
    "\n",
    "# training data\n",
    "x_train = [1, 2, 3, 4]\n",
    "y_train = [0, -1, -2, -3]\n",
    "\n",
    "with tf.Session() as sess:\n",
    "    sess.run( tf.global_variables_initializer() )\n",
    "\n",
    "    for i in range(1000):\n",
    "        sess.run(train, {x:x_train, y:y_train})\n",
    "\n",
    "    curr_W, curr_b, curr_loss = sess.run([W, b, loss], {x:x_train, y:y_train})\n",
    "    print(\"W:{}    b:{}    loss:{}\".format(curr_W, curr_b, curr_loss))"
   ]
  },
  {
   "cell_type": "code",
   "execution_count": 75,
   "metadata": {},
   "outputs": [
    {
     "name": "stdout",
     "output_type": "stream",
     "text": [
      "[2 4 7]\n"
     ]
    }
   ],
   "source": [
    "# specify graph for a session\n",
    "my_graph = tf.Graph()\n",
    "with tf.Session(graph=my_graph) as sess:\n",
    "    x = tf.constant([1,3,6])\n",
    "    y = tf.constant([1,1,1])\n",
    "    op = x+y                      # or tf.add(x,y)\n",
    "    print(sess.run(op))"
   ]
  },
  {
   "cell_type": "code",
   "execution_count": null,
   "metadata": {},
   "outputs": [],
   "source": []
  },
  {
   "cell_type": "code",
   "execution_count": null,
   "metadata": {},
   "outputs": [],
   "source": []
  }
 ],
 "metadata": {
  "kernelspec": {
   "display_name": "Python 3",
   "language": "python",
   "name": "python3"
  },
  "language_info": {
   "codemirror_mode": {
    "name": "ipython",
    "version": 3
   },
   "file_extension": ".py",
   "mimetype": "text/x-python",
   "name": "python",
   "nbconvert_exporter": "python",
   "pygments_lexer": "ipython3",
   "version": "3.7.7"
  }
 },
 "nbformat": 4,
 "nbformat_minor": 4
}
