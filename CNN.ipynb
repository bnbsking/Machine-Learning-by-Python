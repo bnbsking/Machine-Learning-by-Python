{
 "cells": [
  {
   "cell_type": "code",
   "execution_count": 2,
   "metadata": {},
   "outputs": [],
   "source": [
    "from __future__ import absolute_import, division, print_function, unicode_literals\n",
    "import matplotlib.pyplot as plt\n",
    "import numpy as np\n",
    "import os\n",
    "import tensorflow as tf\n",
    "from tensorflow.keras import Input, Model\n",
    "from tensorflow.keras.layers import Dense, Conv2D, Flatten, Dropout, MaxPool2D #ing\n",
    "from tensorflow.keras.preprocessing.image import ImageDataGenerator"
   ]
  },
  {
   "cell_type": "code",
   "execution_count": 3,
   "metadata": {},
   "outputs": [],
   "source": [
    "train_dir = \"C:\\\\Users\\\\bnbsk\\\\Desktop\\\\data\\\\train\"\n",
    "validation_dir = \"C:\\\\Users\\\\bnbsk\\\\Desktop\\\\data\\\\validation\"\n",
    "train_corgi_dir = os.path.join(train_dir, 'corgi')\n",
    "train_shiba_dir = os.path.join(train_dir, 'shiba')\n",
    "validation_corgi_dir = os.path.join(validation_dir, 'corgi')\n",
    "validation_shiba_dir = os.path.join(validation_dir, 'shiba')\n",
    "\n",
    "num_corgi_tr = len(os.listdir(train_corgi_dir))\n",
    "num_shiba_tr = len(os.listdir(train_shiba_dir))\n",
    "num_corgi_val = len(os.listdir(validation_corgi_dir))\n",
    "num_shiba_val = len(os.listdir(validation_shiba_dir))\n",
    "total_train = num_corgi_tr + num_shiba_tr\n",
    "total_val = num_corgi_tr + num_shiba_tr\n",
    "\n",
    "batch_size = 100\n",
    "epochs = 15\n",
    "IMG_HEIGHT = 128\n",
    "IMG_WIDTH = 128"
   ]
  },
  {
   "cell_type": "code",
   "execution_count": 4,
   "metadata": {},
   "outputs": [
    {
     "name": "stdout",
     "output_type": "stream",
     "text": [
      "Found 802 images belonging to 2 classes.\n",
      "Found 200 images belonging to 2 classes.\n"
     ]
    }
   ],
   "source": [
    "train_image_generator = ImageDataGenerator(rescale=1./255,  horizontal_flip=True, rotation_range=45, \\\n",
    "        width_shift_range=.15, height_shift_range=.15, zoom_range=0.5)\n",
    "validation_image_generator = ImageDataGenerator(rescale=1./255)\n",
    "\n",
    "train_data_gen = train_image_generator.flow_from_directory(batch_size=batch_size, \\\n",
    "    directory=train_dir, shuffle=True, target_size=(IMG_HEIGHT, IMG_WIDTH), class_mode='categorical')\n",
    "val_data_gen = validation_image_generator.flow_from_directory(batch_size=batch_size, \\\n",
    "    directory=validation_dir, target_size=(IMG_HEIGHT, IMG_WIDTH), class_mode='categorical')"
   ]
  },
  {
   "cell_type": "code",
   "execution_count": 5,
   "metadata": {},
   "outputs": [
    {
     "name": "stdout",
     "output_type": "stream",
     "text": [
      "Model: \"model\"\n",
      "_________________________________________________________________\n",
      "Layer (type)                 Output Shape              Param #   \n",
      "=================================================================\n",
      "input_1 (InputLayer)         [(None, 128, 128, 3)]     0         \n",
      "_________________________________________________________________\n",
      "conv2d (Conv2D)              (None, 128, 128, 64)      1792      \n",
      "_________________________________________________________________\n",
      "max_pooling2d (MaxPooling2D) (None, 64, 64, 64)        0         \n",
      "_________________________________________________________________\n",
      "conv2d_1 (Conv2D)            (None, 64, 64, 32)        18464     \n",
      "_________________________________________________________________\n",
      "max_pooling2d_1 (MaxPooling2 (None, 32, 32, 32)        0         \n",
      "_________________________________________________________________\n",
      "flatten (Flatten)            (None, 32768)             0         \n",
      "_________________________________________________________________\n",
      "dense (Dense)                (None, 32)                1048608   \n",
      "_________________________________________________________________\n",
      "dense_1 (Dense)              (None, 2)                 66        \n",
      "=================================================================\n",
      "Total params: 1,068,930\n",
      "Trainable params: 1,068,930\n",
      "Non-trainable params: 0\n",
      "_________________________________________________________________\n"
     ]
    }
   ],
   "source": [
    "inputs = Input(shape=(IMG_HEIGHT, IMG_WIDTH, 3))\n",
    "x = Conv2D(64, (3,3), padding='same', activation='relu', kernel_regularizer=tf.keras.regularizers.l2(0.001))(inputs)\n",
    "x = MaxPool2D()(x)\n",
    "x = Conv2D(32, (3,3), padding='same', activation='relu', kernel_regularizer=tf.keras.regularizers.l2(0.001))(x)\n",
    "x = MaxPool2D()(x)\n",
    "x = Flatten()(x)\n",
    "x = Dense(32, activation='relu', kernel_regularizer=tf.keras.regularizers.l2(0.001))(x)\n",
    "outputs = Dense(2, activation='softmax')(x)\n",
    "model = Model(inputs, outputs)\n",
    "model.summary()\n",
    "model.compile(optimizer='adam', loss=tf.keras.losses.CategoricalCrossentropy(), \\\n",
    "    metrics=[tf.keras.metrics.CategoricalAccuracy()])#from_logits=True"
   ]
  },
  {
   "cell_type": "code",
   "execution_count": 6,
   "metadata": {},
   "outputs": [
    {
     "name": "stdout",
     "output_type": "stream",
     "text": [
      "Epoch 1/15\n",
      "WARNING:tensorflow:From C:\\Users\\bnbsk\\tf2-gpu\\lib\\site-packages\\tensorflow\\python\\ops\\math_grad.py:1250: add_dispatch_support.<locals>.wrapper (from tensorflow.python.ops.array_ops) is deprecated and will be removed in a future version.\n",
      "Instructions for updating:\n",
      "Use tf.where in 2.0, which has the same broadcast rule as np.where\n",
      "8/8 [==============================] - 34s 4s/step - loss: 1.1748 - categorical_accuracy: 0.5228 - val_loss: 0.7812 - val_categorical_accuracy: 0.5050\n",
      "Epoch 2/15\n",
      "8/8 [==============================] - 35s 4s/step - loss: 0.7691 - categorical_accuracy: 0.5157 - val_loss: 0.7665 - val_categorical_accuracy: 0.5000\n",
      "Epoch 3/15\n",
      "8/8 [==============================] - 33s 4s/step - loss: 0.7632 - categorical_accuracy: 0.4986 - val_loss: 0.7621 - val_categorical_accuracy: 0.5000\n",
      "Epoch 4/15\n",
      "8/8 [==============================] - 33s 4s/step - loss: 0.7552 - categorical_accuracy: 0.5188 - val_loss: 0.7553 - val_categorical_accuracy: 0.5000\n",
      "Epoch 5/15\n",
      "8/8 [==============================] - 28s 4s/step - loss: 0.7532 - categorical_accuracy: 0.4868 - val_loss: 0.7506 - val_categorical_accuracy: 0.5050\n",
      "Epoch 6/15\n",
      "8/8 [==============================] - 32s 4s/step - loss: 0.7490 - categorical_accuracy: 0.5013 - val_loss: 0.7471 - val_categorical_accuracy: 0.5050\n",
      "Epoch 7/15\n",
      "8/8 [==============================] - 27s 3s/step - loss: 0.7458 - categorical_accuracy: 0.4986 - val_loss: 0.7445 - val_categorical_accuracy: 0.5050\n",
      "Epoch 8/15\n",
      "8/8 [==============================] - 27s 3s/step - loss: 0.7427 - categorical_accuracy: 0.5057 - val_loss: 0.7425 - val_categorical_accuracy: 0.5050\n",
      "Epoch 9/15\n",
      "8/8 [==============================] - 26s 3s/step - loss: 0.7301 - categorical_accuracy: 0.5128 - val_loss: 0.7447 - val_categorical_accuracy: 0.5050\n",
      "Epoch 10/15\n",
      "8/8 [==============================] - 28s 4s/step - loss: 0.7380 - categorical_accuracy: 0.5043 - val_loss: 0.7383 - val_categorical_accuracy: 0.5100\n",
      "Epoch 11/15\n",
      "8/8 [==============================] - 29s 4s/step - loss: 0.7366 - categorical_accuracy: 0.5100 - val_loss: 0.7368 - val_categorical_accuracy: 0.5100\n",
      "Epoch 12/15\n",
      "8/8 [==============================] - 29s 4s/step - loss: 0.7361 - categorical_accuracy: 0.5014 - val_loss: 0.7354 - val_categorical_accuracy: 0.5100\n",
      "Epoch 13/15\n",
      "8/8 [==============================] - 30s 4s/step - loss: 0.7347 - categorical_accuracy: 0.5214 - val_loss: 0.7341 - val_categorical_accuracy: 0.5100\n",
      "Epoch 14/15\n",
      "8/8 [==============================] - 29s 4s/step - loss: 0.7342 - categorical_accuracy: 0.4672 - val_loss: 0.7331 - val_categorical_accuracy: 0.4750\n",
      "Epoch 15/15\n",
      "8/8 [==============================] - 24s 3s/step - loss: 0.7325 - categorical_accuracy: 0.5100 - val_loss: 0.7322 - val_categorical_accuracy: 0.4400\n"
     ]
    }
   ],
   "source": [
    "history = model.fit_generator(\n",
    "    train_data_gen,\n",
    "    steps_per_epoch=total_train // batch_size,\n",
    "    epochs=epochs,\n",
    "    validation_data=val_data_gen,\n",
    "    validation_steps=total_val // batch_size\n",
    ")"
   ]
  },
  {
   "cell_type": "code",
   "execution_count": 7,
   "metadata": {},
   "outputs": [
    {
     "data": {
      "text/plain": [
       "dict_keys(['loss', 'categorical_accuracy', 'val_loss', 'val_categorical_accuracy'])"
      ]
     },
     "execution_count": 7,
     "metadata": {},
     "output_type": "execute_result"
    }
   ],
   "source": [
    "history.history.keys()"
   ]
  },
  {
   "cell_type": "code",
   "execution_count": 8,
   "metadata": {},
   "outputs": [
    {
     "data": {
      "image/png": "[encoded data removed]",
      "text/plain": [
       "<Figure size 576x576 with 2 Axes>"
      ]
     },
     "metadata": {
      "needs_background": "light"
     },
     "output_type": "display_data"
    }
   ],
   "source": [
    "acc = history.history['categorical_accuracy']\n",
    "val_acc = history.history['val_categorical_accuracy']\n",
    "\n",
    "loss=history.history['loss']\n",
    "val_loss=history.history['val_loss']\n",
    "\n",
    "epochs_range = range(epochs)\n",
    "\n",
    "plt.figure(figsize=(8, 8))\n",
    "plt.subplot(1, 2, 1)\n",
    "plt.plot(epochs_range, acc, label='Training Accuracy')\n",
    "plt.plot(epochs_range, val_acc, label='Validation Accuracy')\n",
    "plt.legend(loc='lower right')\n",
    "plt.title('Training and Validation Accuracy')\n",
    "\n",
    "plt.subplot(1, 2, 2)\n",
    "plt.plot(epochs_range, loss, label='Training Loss')\n",
    "plt.plot(epochs_range, val_loss, label='Validation Loss')\n",
    "plt.legend(loc='upper right')\n",
    "plt.title('Training and Validation Loss')\n",
    "plt.show()"
   ]
  },
  {
   "cell_type": "code",
   "execution_count": 12,
   "metadata": {},
   "outputs": [
    {
     "name": "stdout",
     "output_type": "stream",
     "text": [
      "Predicted: [[0. 1. 0.]]\n",
      "Predicted: [[0. 1. 0.]]\n",
      "Predicted: [[0. 1. 0.]]\n",
      "Predicted: [[0. 1. 0.]]\n",
      "Predicted: [[0. 1. 0.]]\n",
      "Predicted: [[0. 1. 0.]]\n",
      "Predicted: [[0. 1. 0.]]\n",
      "Predicted: [[0. 1. 0.]]\n",
      "Predicted: [[0. 1. 0.]]\n",
      "Predicted: [[0. 1. 0.]]\n",
      "Predicted: [[0. 1. 0.]]\n",
      "Predicted: [[0. 1. 0.]]\n",
      "Predicted: [[0. 1. 0.]]\n",
      "Predicted: [[0. 1. 0.]]\n",
      "Predicted: [[0. 1. 0.]]\n",
      "Predicted: [[0. 1. 0.]]\n",
      "Predicted: [[0. 1. 0.]]\n",
      "Predicted: [[0. 1. 0.]]\n",
      "Predicted: [[0. 1. 0.]]\n",
      "Predicted: [[0. 1. 0.]]\n"
     ]
    }
   ],
   "source": [
    "from tensorflow.keras.preprocessing import image\n",
    "\n",
    "for i in range(20):\n",
    "    image_path = '/home/administrator/桌面/visualize-ai3/多的分類/wat/a{}.jpg'.format(i)\n",
    "    img = image.load_img(image_path, target_size=(128, 128))\n",
    "    x = image.img_to_array(img)\n",
    "    x = np.expand_dims(x, axis=0)\n",
    "    preds = model.predict(x)\n",
    "    print('Predicted:', preds)"
   ]
  },
  {
   "cell_type": "code",
   "execution_count": 21,
   "metadata": {},
   "outputs": [],
   "source": [
    "model.save(\"./model/CNN_model.h5\")"
   ]
  },
  {
   "cell_type": "code",
   "execution_count": null,
   "metadata": {},
   "outputs": [],
   "source": []
  },
  {
   "cell_type": "code",
   "execution_count": null,
   "metadata": {},
   "outputs": [],
   "source": [
    "for layer in model.layers:\n",
    "    print(layer.trainable)\n",
    "tf.test.is_gpu_available()\n",
    "#print(model.layers, type(model.layers))"
   ]
  },
  {
   "cell_type": "code",
   "execution_count": null,
   "metadata": {},
   "outputs": [],
   "source": []
  },
  {
   "cell_type": "code",
   "execution_count": null,
   "metadata": {},
   "outputs": [],
   "source": []
  }
 ],
 "metadata": {
  "kernelspec": {
   "display_name": "tf2-gpu",
   "language": "python",
   "name": "tf2-gpu"
  },
  "language_info": {
   "codemirror_mode": {
    "name": "ipython",
    "version": 3
   },
   "file_extension": ".py",
   "mimetype": "text/x-python",
   "name": "python",
   "nbconvert_exporter": "python",
   "pygments_lexer": "ipython3",
   "version": "3.6.8"
  }
 },
 "nbformat": 4,
 "nbformat_minor": 4
}
