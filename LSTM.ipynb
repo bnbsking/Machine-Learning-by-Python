{
 "cells": [
  {
   "cell_type": "code",
   "execution_count": 1,
   "metadata": {},
   "outputs": [],
   "source": [
    "import numpy as np\n",
    "import matplotlib.pyplot as plt\n",
    "import pandas as pd\n",
    "import tensorflow as tf\n",
    "from tensorflow.keras import Input, Model\n",
    "from tensorflow.keras.layers import LSTM, Dense, Dropout, Reshape\n",
    "from tensorflow.keras.optimizers import Adam\n",
    "from tensorflow.keras.metrics import CategoricalAccuracy"
   ]
  },
  {
   "cell_type": "code",
   "execution_count": 2,
   "metadata": {},
   "outputs": [
    {
     "data": {
      "text/plain": [
       "(1258, 1)"
      ]
     },
     "execution_count": 2,
     "metadata": {},
     "output_type": "execute_result"
    }
   ],
   "source": [
    "df = pd.read_csv('Google_Stock_Price_Train.csv')\n",
    "train = df.iloc[:, 1:2].values\n",
    "train = (train-train.min())/(train.max()-train.min())\n",
    "\n",
    "train.shape"
   ]
  },
  {
   "cell_type": "code",
   "execution_count": 4,
   "metadata": {},
   "outputs": [
    {
     "data": {
      "text/plain": [
       "((1198, 60, 1), (1198,))"
      ]
     },
     "execution_count": 4,
     "metadata": {},
     "output_type": "execute_result"
    }
   ],
   "source": [
    "#shape 1258, 60, 1 #predict next day by past 60 days # available data = 1258-60 = 1198\n",
    "n = 1258-60\n",
    "xTrain, yTrain = np.zeros((n, 60, 1)), np.zeros(n)\n",
    "for i in range(n):\n",
    "    for j in range(60):\n",
    "        xTrain[i][j][0] = train[i+j][0]\n",
    "    yTrain[i] = train[i+60][0]\n",
    "xTrain.shape, yTrain.shape"
   ]
  },
  {
   "cell_type": "code",
   "execution_count": 5,
   "metadata": {},
   "outputs": [
    {
     "name": "stdout",
     "output_type": "stream",
     "text": [
      "Model: \"model\"\n",
      "_________________________________________________________________\n",
      "Layer (type)                 Output Shape              Param #   \n",
      "=================================================================\n",
      "input_1 (InputLayer)         [(None, 60, 1)]           0         \n",
      "_________________________________________________________________\n",
      "lstm (LSTM)                  (None, 60, 50)            10400     \n",
      "_________________________________________________________________\n",
      "dropout (Dropout)            (None, 60, 50)            0         \n",
      "_________________________________________________________________\n",
      "lstm_1 (LSTM)                (None, 60, 50)            20200     \n",
      "_________________________________________________________________\n",
      "dropout_1 (Dropout)          (None, 60, 50)            0         \n",
      "_________________________________________________________________\n",
      "lstm_2 (LSTM)                (None, 60, 50)            20200     \n",
      "_________________________________________________________________\n",
      "dropout_2 (Dropout)          (None, 60, 50)            0         \n",
      "_________________________________________________________________\n",
      "lstm_3 (LSTM)                (None, 60, 50)            20200     \n",
      "_________________________________________________________________\n",
      "dropout_3 (Dropout)          (None, 60, 50)            0         \n",
      "_________________________________________________________________\n",
      "reshape (Reshape)            (None, 3000)              0         \n",
      "_________________________________________________________________\n",
      "dense (Dense)                (None, 1)                 3001      \n",
      "=================================================================\n",
      "Total params: 74,001\n",
      "Trainable params: 74,001\n",
      "Non-trainable params: 0\n",
      "_________________________________________________________________\n"
     ]
    }
   ],
   "source": [
    "inputs = Input(shape=(60, 1))\n",
    "x = LSTM(50, return_sequences=True)(inputs)\n",
    "x = Dropout(0.1)(x)\n",
    "x = LSTM(50, return_sequences=True)(x)\n",
    "x = Dropout(0.1)(x)\n",
    "x = LSTM(50, return_sequences=True)(x)\n",
    "x = Dropout(0.1)(x)\n",
    "x = LSTM(50, return_sequences=True)(x)\n",
    "x = Dropout(0.1)(x)\n",
    "x = Reshape((3000,))(x)\n",
    "outputs = Dense(1)(x)\n",
    "\n",
    "model = Model(inputs, outputs)\n",
    "model.compile(optimizers=Adam(lr=0.0001), loss='mse')\n",
    "model.summary()"
   ]
  },
  {
   "cell_type": "code",
   "execution_count": 6,
   "metadata": {
    "scrolled": true
   },
   "outputs": [
    {
     "name": "stdout",
     "output_type": "stream",
     "text": [
      "Train on 1198 samples\n",
      "Epoch 1/10\n",
      "1198/1198 [==============================] - 6s 5ms/sample - loss: 0.0604\n",
      "Epoch 2/10\n",
      "1198/1198 [==============================] - 2s 1ms/sample - loss: 0.0192\n",
      "Epoch 3/10\n",
      "1198/1198 [==============================] - 2s 1ms/sample - loss: 0.0181\n",
      "Epoch 4/10\n",
      "1198/1198 [==============================] - 2s 1ms/sample - loss: 0.0160\n",
      "Epoch 5/10\n",
      "1198/1198 [==============================] - 2s 1ms/sample - loss: 0.0121\n",
      "Epoch 6/10\n",
      "1198/1198 [==============================] - 2s 1ms/sample - loss: 0.0148\n",
      "Epoch 7/10\n",
      "1198/1198 [==============================] - 2s 1ms/sample - loss: 0.0102\n",
      "Epoch 8/10\n",
      "1198/1198 [==============================] - 2s 1ms/sample - loss: 0.0086\n",
      "Epoch 9/10\n",
      "1198/1198 [==============================] - 2s 1ms/sample - loss: 0.0118\n",
      "Epoch 10/10\n",
      "1198/1198 [==============================] - 2s 1ms/sample - loss: 0.0100\n"
     ]
    }
   ],
   "source": [
    "history = model.fit(xTrain, yTrain, epochs=10, batch_size=64)"
   ]
  },
  {
   "cell_type": "code",
   "execution_count": 7,
   "metadata": {
    "scrolled": true
   },
   "outputs": [
    {
     "name": "stdout",
     "output_type": "stream",
     "text": [
      "dict_keys(['loss'])\n"
     ]
    },
    {
     "data": {
      "image/png": "[encoded data removed]",
      "text/plain": [
       "<Figure size 576x216 with 1 Axes>"
      ]
     },
     "metadata": {
      "needs_background": "light"
     },
     "output_type": "display_data"
    }
   ],
   "source": [
    "print(history.history.keys())\n",
    "plt.figure(figsize=(8,3))\n",
    "plt.plot(history.history['loss'])\n",
    "plt.show()"
   ]
  },
  {
   "cell_type": "code",
   "execution_count": 8,
   "metadata": {},
   "outputs": [
    {
     "data": {
      "text/plain": [
       "(1198, 1)"
      ]
     },
     "execution_count": 8,
     "metadata": {},
     "output_type": "execute_result"
    }
   ],
   "source": [
    "res = model.predict(xTrain)\n",
    "res.shape"
   ]
  },
  {
   "cell_type": "code",
   "execution_count": 9,
   "metadata": {},
   "outputs": [
    {
     "data": {
      "image/png": "[encoded data removed]",
      "text/plain": [
       "<Figure size 432x288 with 1 Axes>"
      ]
     },
     "metadata": {
      "needs_background": "light"
     },
     "output_type": "display_data"
    }
   ],
   "source": [
    "plt.plot(np.arange(60,1258), train[60:])\n",
    "plt.plot(np.arange(60,1258), res)\n",
    "plt.legend(labels=[\"real\", \"predict\"], loc=\"upper left\")\n",
    "plt.show()"
   ]
  },
  {
   "cell_type": "code",
   "execution_count": null,
   "metadata": {},
   "outputs": [],
   "source": []
  },
  {
   "cell_type": "code",
   "execution_count": null,
   "metadata": {},
   "outputs": [],
   "source": []
  }
 ],
 "metadata": {
  "kernelspec": {
   "display_name": "Python 3",
   "language": "python",
   "name": "python3"
  },
  "language_info": {
   "codemirror_mode": {
    "name": "ipython",
    "version": 3
   },
   "file_extension": ".py",
   "mimetype": "text/x-python",
   "name": "python",
   "nbconvert_exporter": "python",
   "pygments_lexer": "ipython3",
   "version": "3.7.5"
  }
 },
 "nbformat": 4,
 "nbformat_minor": 2
}
